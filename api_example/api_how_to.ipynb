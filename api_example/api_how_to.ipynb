{
 "cells": [
  {
   "cell_type": "markdown",
   "metadata": {},
   "source": [
    "# Introduction to APIs\n",
    "## What is an API?\n",
    "\n",
    "API stands for Application Programming Interface. An API is a set of rules that allows different software entities to communicate with each other. It defines the methods and data structures that developers can use to interact with the functionality provided by another software component or service."
   ]
  },
  {
   "cell_type": "markdown",
   "metadata": {},
   "source": [
    "## Why Are APIs Important?\n",
    "\n",
    "- Interoperability: APIs enable different software systems to communicate and work together, even if they are built with different technologies. This allows for greater flexibility and integration of diverse systems.\n",
    "- Reusability: APIs allow developers to reuse existing functionality, reducing the need to build features from scratch. This speeds up development and ensures consistency across applications.\n",
    "- Scalability: By decoupling the front-end and back-end of an application, APIs make it easier to scale different components independently.\n",
    "- Innovation: APIs enable third-party developers to build on top of existing platforms, fostering innovation and creating new opportunities for growth and improvement.\n",
    "- Efficiency: With APIs, complex tasks can be executed with simple commands, making development more efficient and less error-prone."
   ]
  },
  {
   "cell_type": "markdown",
   "metadata": {},
   "source": [
    "## Types of APIs\n",
    "\n",
    "There are several types of APIs, each serving different purposes and use cases:\n",
    "\n",
    "- Web APIs:\n",
    "    - REST (Representational State Transfer): A popular style for designing networked applications. RESTful APIs use HTTP requests to perform CRUD (Create, Read, Update, Delete) operations.\n",
    "    - SOAP (Simple Object Access Protocol): An older protocol that uses XML to encode its messages. SOAP is known for its strict standards and built-in error handling.\n",
    "    - GraphQL: A query language for APIs that allows clients to request exactly the data they need. It provides more flexibility compared to REST.\n",
    "\n",
    "- Library APIs:\n",
    "    - These APIs are provided by software libraries and frameworks. They allow developers to leverage pre-built functions and methods to accomplish specific tasks. Examples include the NumPy API for numerical operations and the Pandas API for data manipulation.\n",
    "\n",
    "- Database APIs:\n",
    "    - These APIs allow applications to interact with database management systems.\n",
    "\n",
    "- Hardware APIs:\n",
    "    - These APIs enable software to interact with hardware devices."
   ]
  },
  {
   "cell_type": "markdown",
   "metadata": {},
   "source": [
    "## Examples of Popular Web APIs\n",
    "\n",
    "- Social Media APIs:\n",
    "    - Twitter/X API: Allows developers to access and interact with Twitter data, including tweets, user profiles, and trends.\n",
    "    - Facebook Graph API: Provides access to Facebook's social graph, allowing developers to retrieve and post data on behalf of users.\n",
    "\n",
    "- Financial APIs:\n",
    "    - Alpha Vantage: Provides real-time and historical stock market data.\n",
    "    - Quandl: Offers access to financial, economic, and alternative datasets.\n",
    "\n",
    "- Weather APIs:\n",
    "    - OpenWeatherMap: Provides weather data, including current conditions, forecasts, and historical data.\n",
    "    - Weatherstack: Offers real-time and historical weather information.\n",
    "\n",
    "- Public Data APIs:\n",
    "    - NASA API: Provides access to various NASA datasets, including astronomy, climate, and space exploration data.\n",
    "    - Google Books API: Allows developers to search for and retrieve book information from Google's vast database."
   ]
  },
  {
   "cell_type": "markdown",
   "metadata": {},
   "source": [
    "# Introduction to FastAPI\n",
    "## What is FastAPI?\n",
    "\n",
    "FastAPI is a fast, web framework for building APIs with Python based on standard Python type hints. It is designed to be easy to use and to provide automatic interactive documentation."
   ]
  },
  {
   "cell_type": "markdown",
   "metadata": {},
   "source": [
    "# Example\n",
    "\n",
    "## Training the Model\n",
    "\n",
    "First, we need to train the model and save it to a file. This will create a model file that we can build an API around.\n",
    "\n",
    "Run the following command in your terminal:\n",
    "\n",
    "`python train_model.py`\n",
    "\n",
    "This will create the iris_model.pkl file.\n",
    "\n",
    "## Running the FastAPI Application\n",
    "\n",
    "Next, we need to run the FastAPI application to serve our API.\n",
    "\n",
    "Run the following command in your terminal:\n",
    "\n",
    "`uvicorn main:app --reload`\n",
    "\n",
    "This will start the FastAPI server and make your API accessible at http://127.0.0.1:8000."
   ]
  },
  {
   "cell_type": "code",
   "execution_count": 5,
   "metadata": {},
   "outputs": [],
   "source": [
    "import requests"
   ]
  },
  {
   "cell_type": "code",
   "execution_count": 8,
   "metadata": {},
   "outputs": [],
   "source": [
    "# Define our api request variables\n",
    "\n",
    "url = \"http://127.0.0.1:8000/predict\"\n",
    "\n",
    "payload = {\n",
    "    \"sepal_length\": 5.1,\n",
    "    \"sepal_width\": 3.5,\n",
    "    \"petal_length\": 1.4,\n",
    "    \"petal_width\": 0.2\n",
    "}\n",
    "headers = {\n",
    "    \"Content-Type\": \"application/json\"\n",
    "}"
   ]
  },
  {
   "cell_type": "code",
   "execution_count": 4,
   "metadata": {},
   "outputs": [
    {
     "name": "stdout",
     "output_type": "stream",
     "text": [
      "200\n",
      "{'species': 'setosa'}\n"
     ]
    }
   ],
   "source": [
    "response = requests.post(url, json=payload, headers=headers)\n",
    "\n",
    "print(response.status_code)\n",
    "print(response.json())"
   ]
  }
 ],
 "metadata": {
  "kernelspec": {
   "display_name": "Python 3",
   "language": "python",
   "name": "python3"
  },
  "language_info": {
   "codemirror_mode": {
    "name": "ipython",
    "version": 3
   },
   "file_extension": ".py",
   "mimetype": "text/x-python",
   "name": "python",
   "nbconvert_exporter": "python",
   "pygments_lexer": "ipython3",
   "version": "3.10.13"
  }
 },
 "nbformat": 4,
 "nbformat_minor": 2
}

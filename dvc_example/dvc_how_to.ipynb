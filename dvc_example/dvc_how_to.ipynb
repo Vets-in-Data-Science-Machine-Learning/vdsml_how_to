{
 "cells": [
  {
   "cell_type": "markdown",
   "metadata": {},
   "source": [
    "# What is dvc?\n",
    "- A data and ML experiment management tool"
   ]
  },
  {
   "cell_type": "markdown",
   "metadata": {},
   "source": [
    "# Install dvc"
   ]
  },
  {
   "cell_type": "code",
   "execution_count": null,
   "metadata": {},
   "outputs": [],
   "source": [
    "# For mac\n",
    "! brew install dvc #Any command that works at the command-line can be used in a notebook by prefixing it with the ! character\n",
    "#pip install dvc\n",
    "\n",
    "# For Windows\n",
    "#choco install dvc\n",
    "#pip install dvc\n",
    "\n",
    "# For Linux\n",
    "#pip install dvc"
   ]
  },
  {
   "cell_type": "markdown",
   "metadata": {},
   "source": [
    "# Initialize dvc\n",
    "A few internal files are created that should be added to Git:\n",
    "- .dvc/config: This is a configuration file. The config file can be edited by hand or with the dvc config command.\n",
    "- .dvc/cache: Default location of the cache directory. The cache stores the project data in a special structure.\n",
    "- .dvc/cache/runs: Default location of the run-cache.\n",
    "- .dvc/plots: Directory for plot templates\n",
    "- .dvc/tmp: Directory for miscellaneous temporary files\n",
    "- and more...\n"
   ]
  },
  {
   "cell_type": "code",
   "execution_count": 1,
   "metadata": {},
   "outputs": [
    {
     "name": "stdout",
     "output_type": "stream",
     "text": [
      "\u001b[31mERROR\u001b[39m: failed to initiate DVC - '.dvc' exists. Use `-f` to force.\n",
      "\u001b[0m"
     ]
    }
   ],
   "source": [
    "#Initialize git\n",
    "#! git init\n",
    "\n",
    "#Initialize a new DVC repository\n",
    "! dvc init --subdir # Creates a new DVC repository in a subdirectory; you likely don't need --subdir"
   ]
  },
  {
   "cell_type": "markdown",
   "metadata": {},
   "source": [
    "# DVC's features can be grouped into functional components. You can explore them in two independent trails:\n",
    "- Data Management Trail: \n",
    "    - Data and model versioning - The base layer of DVC for large files, datasets, and machine learning models. Use a regular Git workflow, but without storing large files in the repo (think \"Git for data\"). Data is stored separately, which allows for efficient sharing.\n",
    "\n",
    "- Experiments Trail\n",
    "    - Experiments versioning - Enable exploration, iteration, and comparison across many ML experiments. Track your experiments with automatic versioning and checkpoint logging. Compare differences in parameters, metrics, code, and data. Apply, drop, roll back, resume, or share any experiment."
   ]
  },
  {
   "cell_type": "markdown",
   "metadata": {},
   "source": [
    "# Get a sample dataset"
   ]
  },
  {
   "cell_type": "code",
   "execution_count": 2,
   "metadata": {},
   "outputs": [
    {
     "name": "stdout",
     "output_type": "stream",
     "text": [
      "  0% Downloading data.xml|                           |0/1 [00:00<?,    ?files/s]\n",
      "!\u001b[A\n",
      "  0%|          |get-started/data.xml               0.00/? [00:00<?,        ?B/s]\u001b[A\n",
      "  0%|          |get-started/data.xml           0.00/13.8M [00:00<?,        ?B/s]\u001b[A\n",
      "  1%|▏         |get-started/data.xml       203k/13.8M [00:00<00:07,    1.82MB/s]\u001b[A\n",
      "  3%|▎         |get-started/data.xml       356k/13.8M [00:00<00:13,    1.05MB/s]\u001b[A\n",
      "  5%|▍         |get-started/data.xml       645k/13.8M [00:00<00:08,    1.58MB/s]\u001b[A\n",
      "  6%|▋         |get-started/data.xml       883k/13.8M [00:00<00:07,    1.75MB/s]\u001b[A\n",
      "  8%|▊         |get-started/data.xml      1.16M/13.8M [00:00<00:06,    2.04MB/s]\u001b[A\n",
      "  9%|▉         |get-started/data.xml      1.26M/13.8M [00:00<00:08,    1.47MB/s]\u001b[A\n",
      " 12%|█▏        |get-started/data.xml      1.59M/13.8M [00:00<00:06,    1.84MB/s]\u001b[A\n",
      " 14%|█▎        |get-started/data.xml      1.87M/13.8M [00:01<00:06,    2.02MB/s]\u001b[A\n",
      " 16%|█▌        |get-started/data.xml      2.14M/13.8M [00:01<00:05,    2.11MB/s]\u001b[A\n",
      " 16%|█▌        |get-started/data.xml      2.22M/13.8M [00:01<00:08,    1.46MB/s]\u001b[A\n",
      " 17%|█▋        |get-started/data.xml      2.39M/13.8M [00:01<00:08,    1.46MB/s]\u001b[A\n",
      " 19%|█▉        |get-started/data.xml      2.65M/13.8M [00:01<00:06,    1.71MB/s]\u001b[A\n",
      " 21%|██        |get-started/data.xml      2.89M/13.8M [00:01<00:08,    1.37MB/s]\u001b[A\n",
      " 22%|██▏       |get-started/data.xml      3.07M/13.8M [00:01<00:07,    1.47MB/s]\u001b[A\n",
      " 24%|██▍       |get-started/data.xml      3.32M/13.8M [00:02<00:06,    1.66MB/s]\u001b[A\n",
      " 26%|██▌       |get-started/data.xml      3.58M/13.8M [00:02<00:05,    1.84MB/s]\u001b[A\n",
      " 27%|██▋       |get-started/data.xml      3.67M/13.8M [00:02<00:07,    1.33MB/s]\u001b[A\n",
      " 28%|██▊       |get-started/data.xml      3.90M/13.8M [00:02<00:06,    1.52MB/s]\u001b[A\n",
      " 30%|██▉       |get-started/data.xml      4.12M/13.8M [00:02<00:06,    1.64MB/s]\u001b[A\n",
      " 32%|███▏      |get-started/data.xml      4.45M/13.8M [00:02<00:04,    2.01MB/s]\u001b[A\n",
      " 33%|███▎      |get-started/data.xml      4.51M/13.8M [00:02<00:06,    1.42MB/s]\u001b[A\n",
      " 35%|███▍      |get-started/data.xml      4.81M/13.8M [00:03<00:05,    1.73MB/s]\u001b[A\n",
      " 37%|███▋      |get-started/data.xml      5.13M/13.8M [00:03<00:04,    1.95MB/s]\u001b[A\n",
      " 38%|███▊      |get-started/data.xml      5.29M/13.8M [00:03<00:04,    1.89MB/s]\u001b[A\n",
      " 39%|███▉      |get-started/data.xml      5.34M/13.8M [00:03<00:06,    1.32MB/s]\u001b[A\n",
      " 40%|███▉      |get-started/data.xml      5.49M/13.8M [00:03<00:06,    1.32MB/s]\u001b[A\n",
      " 41%|████      |get-started/data.xml      5.64M/13.8M [00:03<00:06,    1.32MB/s]\u001b[A\n",
      " 42%|████▏     |get-started/data.xml      5.79M/13.8M [00:03<00:06,    1.32MB/s]\u001b[A\n",
      " 42%|████▏     |get-started/data.xml      5.84M/13.8M [00:03<00:08,     939kB/s]\u001b[A\n",
      " 44%|████▎     |get-started/data.xml      6.03M/13.8M [00:04<00:07,    1.11MB/s]\u001b[A\n",
      " 45%|████▍     |get-started/data.xml      6.19M/13.8M [00:04<00:06,    1.22MB/s]\u001b[A\n",
      " 46%|████▌     |get-started/data.xml      6.32M/13.8M [00:04<00:06,    1.26MB/s]\u001b[A\n",
      " 47%|████▋     |get-started/data.xml      6.44M/13.8M [00:04<00:07,    1.02MB/s]\u001b[A\n",
      " 48%|████▊     |get-started/data.xml      6.62M/13.8M [00:04<00:06,    1.18MB/s]\u001b[A\n",
      " 50%|████▉     |get-started/data.xml      6.82M/13.8M [00:04<00:05,    1.34MB/s]\u001b[A\n",
      " 51%|█████     |get-started/data.xml      7.00M/13.8M [00:04<00:04,    1.45MB/s]\u001b[A\n",
      " 51%|█████▏    |get-started/data.xml      7.07M/13.8M [00:05<00:06,    1.05MB/s]\u001b[A\n",
      " 53%|█████▎    |get-started/data.xml      7.29M/13.8M [00:05<00:05,    1.28MB/s]\u001b[A\n",
      " 55%|█████▍    |get-started/data.xml      7.52M/13.8M [00:05<00:04,    1.48MB/s]\u001b[A\n",
      " 56%|█████▋    |get-started/data.xml      7.75M/13.8M [00:05<00:03,    1.64MB/s]\u001b[A\n",
      " 56%|█████▋    |get-started/data.xml      7.77M/13.8M [00:05<00:05,    1.10MB/s]\u001b[A\n",
      " 58%|█████▊    |get-started/data.xml      8.05M/13.8M [00:05<00:04,    1.48MB/s]\u001b[A\n",
      " 60%|█████▉    |get-started/data.xml      8.25M/13.8M [00:05<00:03,    1.57MB/s]\u001b[A\n",
      " 61%|██████▏   |get-started/data.xml      8.46M/13.8M [00:05<00:03,    1.69MB/s]\u001b[A\n",
      " 62%|██████▏   |get-started/data.xml      8.57M/13.8M [00:06<00:04,    1.27MB/s]\u001b[A\n",
      " 63%|██████▎   |get-started/data.xml      8.68M/13.8M [00:06<00:04,    1.22MB/s]\u001b[A\n",
      " 64%|██████▍   |get-started/data.xml      8.83M/13.8M [00:06<00:04,    1.23MB/s]\u001b[A\n",
      " 65%|██████▌   |get-started/data.xml      8.96M/13.8M [00:06<00:04,    1.22MB/s]\u001b[A\n",
      " 65%|██████▌   |get-started/data.xml      9.00M/13.8M [00:06<00:05,     840kB/s]\u001b[A\n",
      " 66%|██████▋   |get-started/data.xml      9.13M/13.8M [00:06<00:05,     938kB/s]\u001b[A\n",
      " 68%|██████▊   |get-started/data.xml      9.31M/13.8M [00:06<00:04,    1.09MB/s]\u001b[A\n",
      " 69%|██████▊   |get-started/data.xml      9.46M/13.8M [00:06<00:03,    1.18MB/s]\u001b[A\n",
      " 69%|██████▉   |get-started/data.xml      9.51M/13.8M [00:07<00:05,     862kB/s]\u001b[A\n",
      " 70%|███████   |get-started/data.xml      9.68M/13.8M [00:07<00:04,    1.03MB/s]\u001b[A\n",
      " 71%|███████▏  |get-started/data.xml      9.84M/13.8M [00:07<00:03,    1.15MB/s]\u001b[A\n",
      " 72%|███████▏  |get-started/data.xml      9.98M/13.8M [00:07<00:03,    1.18MB/s]\u001b[A\n",
      " 73%|███████▎  |get-started/data.xml      10.0M/13.8M [00:07<00:04,     876kB/s]\u001b[A\n",
      " 74%|███████▍  |get-started/data.xml      10.2M/13.8M [00:07<00:03,     966kB/s]\u001b[A\n",
      " 74%|███████▍  |get-started/data.xml      10.2M/13.8M [00:07<00:04,     775kB/s]\u001b[A\n",
      " 76%|███████▌  |get-started/data.xml      10.4M/13.8M [00:08<00:04,     756kB/s]\u001b[A\n",
      " 77%|███████▋  |get-started/data.xml      10.6M/13.8M [00:08<00:03,     887kB/s]\u001b[A\n",
      " 78%|███████▊  |get-started/data.xml      10.7M/13.8M [00:08<00:03,    1.00MB/s]\u001b[A\n",
      " 78%|███████▊  |get-started/data.xml      10.8M/13.8M [00:08<00:03,     990kB/s]\u001b[A\n",
      " 79%|███████▉  |get-started/data.xml      10.9M/13.8M [00:08<00:03,     839kB/s]\u001b[A\n",
      " 80%|███████▉  |get-started/data.xml      11.0M/13.8M [00:08<00:03,     933kB/s]\u001b[A\n",
      " 81%|████████  |get-started/data.xml      11.1M/13.8M [00:08<00:02,    1.06MB/s]\u001b[A\n",
      " 82%|████████▏ |get-started/data.xml      11.2M/13.8M [00:08<00:02,    1.08MB/s]\u001b[A\n",
      " 83%|████████▎ |get-started/data.xml      11.4M/13.8M [00:09<00:02,    1.02MB/s]\u001b[A\n",
      " 84%|████████▍ |get-started/data.xml      11.6M/13.8M [00:09<00:01,    1.18MB/s]\u001b[A\n",
      " 85%|████████▌ |get-started/data.xml      11.7M/13.8M [00:09<00:01,    1.18MB/s]\u001b[A\n",
      " 87%|████████▋ |get-started/data.xml      12.0M/13.8M [00:09<00:01,    1.43MB/s]\u001b[A\n",
      " 88%|████████▊ |get-started/data.xml      12.1M/13.8M [00:09<00:01,    1.29MB/s]\u001b[A\n",
      " 89%|████████▉ |get-started/data.xml      12.3M/13.8M [00:09<00:01,    1.32MB/s]\u001b[A\n",
      " 90%|█████████ |get-started/data.xml      12.4M/13.8M [00:09<00:01,    1.33MB/s]\u001b[A\n",
      " 92%|█████████▏|get-started/data.xml      12.6M/13.8M [00:10<00:00,    1.39MB/s]\u001b[A\n",
      " 93%|█████████▎|get-started/data.xml      12.8M/13.8M [00:10<00:00,    1.19MB/s]\u001b[A\n",
      " 94%|█████████▍|get-started/data.xml      12.9M/13.8M [00:10<00:00,    1.28MB/s]\u001b[A\n",
      " 95%|█████████▍|get-started/data.xml      13.1M/13.8M [00:10<00:00,    1.30MB/s]\u001b[A\n",
      " 96%|█████████▌|get-started/data.xml      13.2M/13.8M [00:10<00:00,    1.22MB/s]\u001b[A\n",
      " 97%|█████████▋|get-started/data.xml      13.3M/13.8M [00:10<00:00,     882kB/s]\u001b[A\n",
      " 98%|█████████▊|get-started/data.xml      13.5M/13.8M [00:10<00:00,     971kB/s]\u001b[A\n",
      " 99%|█████████▉|get-started/data.xml      13.6M/13.8M [00:11<00:00,    1.06MB/s]\u001b[A\n",
      "100% Downloading data.xml|██████████████████████|1/1 [00:12<00:00, 12.23s/files]\u001b[A\n",
      "\u001b[0m                                                                            \u001b[Atotal 28688\n",
      "-rw-r--r--  1 twileman  staff    14M Jul 28 20:27 data.xml\n"
     ]
    }
   ],
   "source": [
    "! mkdir data # Create a directory called data\n",
    "! dvc get https://github.com/iterative/dataset-registry get-started/data.xml -o data/data.xml\n",
    "! ls -lh data"
   ]
  },
  {
   "cell_type": "markdown",
   "metadata": {},
   "source": [
    "# Use dvc add to start tracking a file or directory \n",
    "- DVC stores information about the added file in a special .dvc file named data/data.xml.dvc — a small text file with a human-readable format. This metadata file is a placeholder for the original data, and can be easily versioned like source code with Git:"
   ]
  },
  {
   "cell_type": "code",
   "execution_count": 3,
   "metadata": {},
   "outputs": [
    {
     "name": "stdout",
     "output_type": "stream",
     "text": [
      "\u001b[?25l                                                                          \u001b[32m⠋\u001b[0m Checking graph\n",
      "100% Adding...|████████████████████████████████████████|1/1 [00:00, 16.64file/s]\n",
      "\n",
      "To track the changes with git, run:\n",
      "\n",
      "    git add data/data.xml.dvc data/.gitignore\n",
      "\n",
      "To enable auto staging, run:\n",
      "\n",
      "\tdvc config core.autostage true\n",
      "\u001b[0m"
     ]
    }
   ],
   "source": [
    "# Add the file to the DVC repository\n",
    "! dvc add data/data.xml"
   ]
  },
  {
   "cell_type": "code",
   "execution_count": 4,
   "metadata": {},
   "outputs": [
    {
     "name": "stdout",
     "output_type": "stream",
     "text": [
      "[main 5a63525] Add raw data\n",
      " 2 files changed, 5 insertions(+)\n",
      " create mode 100644 dvc_example/data/.gitignore\n",
      " create mode 100644 dvc_example/data/data.xml.dvc\n"
     ]
    }
   ],
   "source": [
    "! git add data/data.xml.dvc data/.gitignore\n",
    "! git commit -m \"Add raw data\""
   ]
  },
  {
   "cell_type": "markdown",
   "metadata": {},
   "source": [
    "# Remote Storage\n",
    "- dvc push uploads DVC-tracked data or model files to a remote directory so they can be retrieved on other environments later with dvc pull"
   ]
  },
  {
   "cell_type": "code",
   "execution_count": 5,
   "metadata": {},
   "outputs": [
    {
     "name": "stdout",
     "output_type": "stream",
     "text": [
      "Setting 'vdsml-dvc-how-to' as a default remote.\n",
      "\u001b[0mOn branch main\n",
      "Your branch is ahead of 'origin/main' by 1 commit.\n",
      "  (use \"git push\" to publish your local commits)\n",
      "\n",
      "nothing to commit, working tree clean\n"
     ]
    }
   ],
   "source": [
    "# Set up storage location\n",
    "! dvc remote add -d -f vdsml-dvc-how-to s3://vdsml-dvc-how-to #-f forces this since we've tested this already\n",
    "! git add .dvc/config\n",
    "! git commit -m \"Configure remote storage\""
   ]
  },
  {
   "cell_type": "code",
   "execution_count": 6,
   "metadata": {},
   "outputs": [
    {
     "name": "stdout",
     "output_type": "stream",
     "text": [
      "  0% Transferring|                                   |0/1 [00:00<?,     ?file/s]\n",
      "!\u001b[A\n",
      "  0%|          |a1a2931c8370d3aeedd7183606fd7f     0.00/? [00:00<?,        ?B/s]\u001b[A\n",
      "  0%|          |a1a2931c8370d3aeedd7183606fd7f 0.00/13.8M [00:00<?,        ?B/s]\u001b[A\n",
      "100%|██████████|a1a2931c8370d3aeedd718360613.8M/13.8M [00:12<00:00,    1.16MB/s]\u001b[A\n",
      "1 file pushed                                                                   \u001b[A\n",
      "\u001b[0m"
     ]
    }
   ],
   "source": [
    "# Push to remote storage\n",
    "! dvc push"
   ]
  },
  {
   "cell_type": "markdown",
   "metadata": {},
   "source": [
    "dvc push copied the data cached locally to the remote storage we set up earlier. The remote storage directory should look like this:\n",
    "\n",
    ".../dvcstore\n",
    "\n",
    "└── 22\n",
    "\n",
    "    └── a1a2931c8370d3aeedd7183606fd7f"
   ]
  },
  {
   "cell_type": "markdown",
   "metadata": {},
   "source": [
    "# DVC Pull\n",
    "Let's remove the data from our directory and see how easy it is to retrieve it from the remote storage."
   ]
  },
  {
   "cell_type": "code",
   "execution_count": 7,
   "metadata": {},
   "outputs": [],
   "source": [
    "! rm -f data/data.xml\n",
    "! rm -rf /dvc/cache"
   ]
  },
  {
   "cell_type": "code",
   "execution_count": 8,
   "metadata": {},
   "outputs": [
    {
     "name": "stdout",
     "output_type": "stream",
     "text": [
      "\u001b[32mA\u001b[0m       data/data.xml                                                  \n",
      "1 file added\n",
      "\u001b[0m"
     ]
    }
   ],
   "source": [
    "# Pull from remote storage\n",
    "! dvc pull"
   ]
  },
  {
   "cell_type": "markdown",
   "metadata": {},
   "source": [
    "# Track changes in the data"
   ]
  },
  {
   "cell_type": "code",
   "execution_count": 9,
   "metadata": {},
   "outputs": [
    {
     "name": "stdout",
     "output_type": "stream",
     "text": [
      "total 56896\n",
      "-rw-r--r--  1 twileman  staff    28M Jul 28 20:39 data.xml\n",
      "-rw-r--r--  1 twileman  staff    80B Jul 28 20:28 data.xml.dvc\n"
     ]
    }
   ],
   "source": [
    "# Make a change to the data\n",
    "! cp data/data.xml /tmp/data.xml\n",
    "! cat /tmp/data.xml >> data/data.xml\n",
    "! ls -lh data"
   ]
  },
  {
   "cell_type": "code",
   "execution_count": 10,
   "metadata": {},
   "outputs": [
    {
     "name": "stdout",
     "output_type": "stream",
     "text": [
      "\u001b[?25l                                                                          \u001b[32m⠋\u001b[0m Checking graph\n",
      "Adding...                                                                       \n",
      "!\u001b[A\n",
      "  0% Checking cache in '/Users/twileman/vdsml_how_to/dvc_example/.dvc/cache'| |0\u001b[A\n",
      "                                                                                \u001b[A\n",
      "!\u001b[A\n",
      "  0%|          |Transferring                          0/1 [00:00<?,     ?file/s]\u001b[A\n",
      "100% Adding...|████████████████████████████████████████|1/1 [00:00, 10.18file/s]\u001b[A\n",
      "\n",
      "To track the changes with git, run:\n",
      "\n",
      "    git add data/data.xml.dvc\n",
      "\n",
      "To enable auto staging, run:\n",
      "\n",
      "\tdvc config core.autostage true\n",
      "\u001b[0m[main 12d24bb] Add more data\n",
      " 1 file changed, 2 insertions(+), 2 deletions(-)\n",
      "  0% Transferring|                                   |0/1 [00:00<?,     ?file/s]\n",
      "!\u001b[A\n",
      "  0%|          |9fbd15fa2c32c539c4c4e3675b514a     0.00/? [00:00<?,        ?B/s]\u001b[A\n",
      "  0%|          |9fbd15fa2c32c539c4c4e3675b514a 0.00/27.6M [00:00<?,        ?B/s]\u001b[A\n",
      "100%|██████████|9fbd15fa2c32c539c4c4e3675b27.6M/27.6M [00:23<00:00,    1.24MB/s]\u001b[A\n",
      "1 file pushed                                                                   \u001b[A\n",
      "\u001b[0m"
     ]
    }
   ],
   "source": [
    "! dvc add data/data.xml\n",
    "! git add data/data.xml.dvc\n",
    "! git commit -m \"Add more data\"\n",
    "! dvc push"
   ]
  },
  {
   "cell_type": "code",
   "execution_count": 12,
   "metadata": {},
   "outputs": [
    {
     "name": "stdout",
     "output_type": "stream",
     "text": [
      "\u001b[33m12d24bb\u001b[m\u001b[33m (\u001b[m\u001b[1;36mHEAD -> \u001b[m\u001b[1;32mmain\u001b[m\u001b[33m)\u001b[m Add more data\n",
      "\u001b[33m5a63525\u001b[m Add raw data\n",
      "\u001b[33m5bf5ede\u001b[m\u001b[33m (\u001b[m\u001b[1;31morigin/main\u001b[m\u001b[33m, \u001b[m\u001b[1;31morigin/HEAD\u001b[m\u001b[33m)\u001b[m prior to demo\n",
      "\u001b[33m8da7ac1\u001b[m Add raw data\n",
      "\u001b[33m352e99c\u001b[m Add more data\n",
      "\u001b[33m138fb8a\u001b[m Add raw data\n",
      "\u001b[33m0104f30\u001b[m Configure remote storage\n",
      "\u001b[33m2d5e052\u001b[m Add raw data\n",
      "\u001b[33m9138cd8\u001b[m added dvc how to\n",
      "\u001b[33mc5e81a8\u001b[m Add files via upload\n"
     ]
    }
   ],
   "source": [
    "! git log --oneline"
   ]
  },
  {
   "cell_type": "code",
   "execution_count": 13,
   "metadata": {},
   "outputs": [
    {
     "name": "stdout",
     "output_type": "stream",
     "text": [
      "Updated 1 path from 55df548\n"
     ]
    }
   ],
   "source": [
    "# Checkout the previous dvc file\n",
    "! git checkout HEAD^1 data/data.xml.dvc"
   ]
  },
  {
   "cell_type": "code",
   "execution_count": 14,
   "metadata": {},
   "outputs": [
    {
     "name": "stdout",
     "output_type": "stream",
     "text": [
      "\u001b[33mM\u001b[0m       data/data.xml                                                  \n",
      "\u001b[0mtotal 28224\n",
      "-rw-r--r--  1 twileman  staff    14M Jul 28 12:27 data.xml\n",
      "-rw-r--r--  1 twileman  staff    80B Jul 28 20:42 data.xml.dvc\n"
     ]
    }
   ],
   "source": [
    "# Now checkout the data\n",
    "! dvc checkout data/data.xml\n",
    "! ls -lh data"
   ]
  },
  {
   "cell_type": "code",
   "execution_count": 15,
   "metadata": {},
   "outputs": [
    {
     "name": "stdout",
     "output_type": "stream",
     "text": [
      "hint: Waiting for your editor to close the file... \u001b7\u001b[?47h\u001b[>4;2m\u001b[?1h\u001b=\u001b[?2004h\u001b[?1004h\u001b[1;24r\u001b[?12h\u001b[?12l\u001b[22;2t\u001b[22;1t\u001b[29m\u001b[m\u001b[H\u001b[2J\u001b[?25l\u001b[24;1H\"~/vdsml_how_to/.git/COMMIT_EDITMSG\" 11L, 323B\u001b[2;1H▽\u001b[6n\u001b[2;1H  \u001b[3;1H\u001bPzz\u001b\\\u001b[0%m\u001b[6n\u001b[3;1H           \u001b[1;1H\u001b[>c\u001b]10;?\u0007\u001b]11;?\u0007\u001b[2;1H# Please enter the commit message for your changes. Lines starting\u001b[2;67H\u001b[K\u001b[3;1H# with '#' will be ignored, and an empty message aborts the commit.\u001b[3;68H\u001b[K\u001b[4;1H#\n",
      "# On branch main\n",
      "# Your branch is ahead of 'origin/main' by 2 commits.\n",
      "#   (use \"git push\" to publish your local commits)\n",
      "#\n",
      "# Changes to be committed:\n",
      "#\u001b[7Cmodified:   data/data.xml.dvc\n",
      "#\n",
      "\u001b[1m\u001b[34m~                                                                               \u001b[13;1H~                                                                               \u001b[14;1H~                                                                               \u001b[15;1H~                                                                               \u001b[16;1H~                                                                               \u001b[17;1H~                                                                               \u001b[18;1H~                                                                               \u001b[19;1H~                                                                               \u001b[20;1H~                                                                               \u001b[21;1H~                                                                               \u001b[22;1H~                                                                               \u001b[23;1H~                                                                               \u001b[1;1H\u001b[?25h"
     ]
    }
   ],
   "source": [
    "# If I want to keep the data I'm just checked out\n",
    "! git commit data/data.xml.dvc"
   ]
  },
  {
   "cell_type": "markdown",
   "metadata": {},
   "source": [
    "# Pipelines\n",
    "- DVC pipelines can be used to capture data pipelines so you can keep track of the data processes that produce a final result.; how is data filtered, transformed, or used to train ML models? \n",
    "- When you create a pipeline, a dvc.yaml file is generated. This file includes information about the command we want to run (python src/prepare.py data/data.xml), its dependencies, and outputs.\n",
    "- DVC uses these metafiles to track the data used and produced by the stage, so there's no need to use dvc add on data/prepared manually."
   ]
  },
  {
   "cell_type": "code",
   "execution_count": null,
   "metadata": {},
   "outputs": [],
   "source": [
    "! dvc stage add -n prepare \\\n",
    "                -p prepare.seed,prepare.split \\\n",
    "                -d src/prepare.py -d data/data.xml \\\n",
    "                -o data/prepared \\\n",
    "                python src/prepare.py data/data.xml"
   ]
  },
  {
   "cell_type": "markdown",
   "metadata": {},
   "source": [
    "    -n prepare specifies a name for the stage. If you open the dvc.yaml file you will see a section named prepare.\n",
    "\n",
    "    -p prepare.seed,prepare.split defines special types of dependencies — parameters. We'll get to them later in the Metrics, Parameters, and Plots page, but the idea is that the stage can depend on field values from a parameters file (params.yaml by default):\n",
    "\n",
    "prepare:\n",
    "  split: 0.20\n",
    "  seed: 20170428\n",
    "\n",
    "    -d src/prepare.py and -d data/data.xml mean that the stage depends on these files to work. Notice that the source code itself is marked as a dependency. If any of these files change later, DVC will know that this stage needs to be reproduced.\n",
    "\n",
    "    -o data/prepared specifies an output directory for this script, which writes two files in it. This is how the workspace should look like after the run:\n",
    "\n",
    "     .\n",
    "     ├── data\n",
    "     │   ├── data.xml\n",
    "     │   ├── data.xml.dvc\n",
    "    +│   └── prepared\n",
    "    +│       ├── test.tsv\n",
    "    +│       └── train.tsv\n",
    "    +├── dvc.yaml\n",
    "    +├── dvc.lock\n",
    "     ├── params.yaml\n",
    "     └── src\n",
    "         ├── ...\n",
    "\n",
    "    The last line, python src/prepare.py data/data.xml is the command to run in this stage, and it's saved to dvc.yaml, as shown below.\n"
   ]
  }
 ],
 "metadata": {
  "kernelspec": {
   "display_name": "Python 3.9.13 64-bit",
   "language": "python",
   "name": "python3"
  },
  "language_info": {
   "codemirror_mode": {
    "name": "ipython",
    "version": 3
   },
   "file_extension": ".py",
   "mimetype": "text/x-python",
   "name": "python",
   "nbconvert_exporter": "python",
   "pygments_lexer": "ipython3",
   "version": "3.9.13"
  },
  "orig_nbformat": 4,
  "vscode": {
   "interpreter": {
    "hash": "b0fa6594d8f4cbf19f97940f81e996739fb7646882a419484c72d19e05852a7e"
   }
  }
 },
 "nbformat": 4,
 "nbformat_minor": 2
}
